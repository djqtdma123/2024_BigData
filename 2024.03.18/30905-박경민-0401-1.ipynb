{
 "cells": [
  {
   "cell_type": "markdown",
   "id": "9d6a4f91",
   "metadata": {},
   "source": [
    "## 30905-박경민-0401-1"
   ]
  },
  {
   "cell_type": "code",
   "execution_count": null,
   "id": "f5df9685",
   "metadata": {},
   "outputs": [
    {
     "name": "stdout",
     "output_type": "stream",
     "text": [
      "배열의 최댓값을 구합니다.\n"
     ]
    }
   ],
   "source": [
    "\n",
    "from typing import Any, Sequence\n",
    "\n",
    "def max_of (a: Sequence) -> Any:\n",
    "    \"\"\"시킨스형 a 요소의 최댓값을 반환\"\"\"\n",
    "    maximum = a[0]\n",
    "    for i in range(1, len(a)):\n",
    "        if a[i] > maximum:\n",
    "            maximum = a[i]\n",
    "    return maximum\n",
    "\n",
    "if __name__ == '__main__':\n",
    "    print('배열의 최댓값을 구합니다.')\n",
    "    num = int(input('원소 수를 입력하세요 : '))\n",
    "    x = [None] + num  #원소 수가 num인 리스트를 생성\n",
    "    \n",
    "    for i in range(num):\n",
    "        x[i] =int(input(f'x[{i}]를 입력하세요.: '))\n",
    "        \n",
    "        print(f'최댓값은 {max_of(x)}입니다.')"
   ]
  },
  {
   "cell_type": "code",
   "execution_count": null,
   "id": "5ebc1fbe",
   "metadata": {
    "scrolled": true
   },
   "outputs": [],
   "source": [
    "# 배열 원소의 최댓값을 구해서 출력하기(원솟값을 입력받음\n",
    "#from max import max_of\n",
    "\n",
    "print('배열의 최댓값을 구합니다.')\n",
    "print('주의: \"End을 입력하면 종료합니다.\"')\n",
    "\n",
    "number = 0\n",
    "x = []\n",
    "\n",
    "while True:\n",
    "    s = input(f'x[{number}]를 입력하세요.: ')\n",
    "    if s == 'End':\n",
    "              break\n",
    "    x.append(int(s))\n",
    "    number += 1\n",
    "              \n",
    "print(f'{number}개를 입력했습니다.')\n",
    "print(f'최댓값은 {max_of(x)}입니다.')"
   ]
  },
  {
   "cell_type": "code",
   "execution_count": null,
   "id": "934cd52b",
   "metadata": {},
   "outputs": [],
   "source": [
    "# 배열 원소의 최댓값을 구해서 출력하기(원솟값을 단수로 생성)\n",
    "\n",
    "import random\n",
    "\n",
    "print('난수의 최댓값을 구합니다.')\n",
    "num = int(input('난수의 개수를 입력하세요.: '))\n",
    "lo = int(input('난수의 최솟값를 입력하세요.: '))\n",
    "hi = int(input('난수의 최대값를 입력하세요.: '))\n",
    "x = [None] *num        #원소 수 num인 리스트를 생성\n",
    "\n",
    "for i in range(num):\n",
    "    x[i] = random.randint(lo, hi)\n",
    "    \n",
    "print(f'{(x)}')\n",
    "print(f'이 가운데 최댓값은 {max_of(x)}입니다.')"
   ]
  },
  {
   "cell_type": "code",
   "execution_count": null,
   "id": "013fe8eb",
   "metadata": {},
   "outputs": [],
   "source": []
  }
 ],
 "metadata": {
  "kernelspec": {
   "display_name": "Python 3 (ipykernel)",
   "language": "python",
   "name": "python3"
  },
  "language_info": {
   "codemirror_mode": {
    "name": "ipython",
    "version": 3
   },
   "file_extension": ".py",
   "mimetype": "text/x-python",
   "name": "python",
   "nbconvert_exporter": "python",
   "pygments_lexer": "ipython3",
   "version": "3.9.7"
  }
 },
 "nbformat": 4,
 "nbformat_minor": 5
}
