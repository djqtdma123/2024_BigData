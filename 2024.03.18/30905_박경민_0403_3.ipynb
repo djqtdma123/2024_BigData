{
 "cells": [
  {
   "cell_type": "markdown",
   "id": "b4561bbb",
   "metadata": {},
   "source": [
    "## 30905_박경민_0403_3"
   ]
  },
  {
   "cell_type": "markdown",
   "id": "fcb6cd20",
   "metadata": {},
   "source": [
    "본 문제는 python 의 빠른 기초 학습을 위해 설계된 문제로서 python 코드 제출을 기준으로 설명되어 있습니다. \n",
    "------\n",
    "\n",
    "2개의 정수값이 입력될 때,\n",
    "그 불 값이 하나라도 True 일 때에만 True 를 출력하는 프로그램을 작성해보자.\n",
    "\n",
    "참고\n",
    "or 예약어는 주어진 두 불 값 중에서 하나라도 True 이면 True 로 계산하고, 나머지 경우는 False 로 계산한다.\n",
    "이러한 논리연산을 OR 연산(boolean OR)이라고도 부르고, + 로 표시하거나, 집합 기호 ∪(합집합, union)로 표시하기도 한다.\n",
    "모두 같은 의미이다.\n",
    "\n",
    "참, 거짓의 논리값 인 불(boolean) 값을 다루어주는 예약어는 not, and, or 이 있고,\n",
    "불 값들 사이의 논리(not, and, or) 연산 결과도 마찬가지로 True 또는 False 의 불 값으로 계산된다.\n",
    "\n",
    "** 불 대수(boolean algebra)는 수학자 불이 만들어낸 것으로 True(참)/False(거짓) 값만 가지는 논리값과 그 값들 사이의 연산을 다룬다."
   ]
  },
  {
   "cell_type": "code",
   "execution_count": null,
   "id": "d861dbfc",
   "metadata": {},
   "outputs": [],
   "source": [
    "a, b = input().split()\n",
    "print(bool(int(a)) or bool(int(b)))"
   ]
  },
  {
   "cell_type": "markdown",
   "id": "ff9cd0f8",
   "metadata": {},
   "source": [
    "본 문제는 python 의 빠른 기초 학습을 위해 설계된 문제로서 python 코드 제출을 기준으로 설명되어 있습니다. \n",
    "------\n",
    "\n",
    "2개의 정수값이 입력될 때,\n",
    "그 불 값(True/False) 이 서로 다를 때에만 True 를 출력하는 프로그램을 작성해보자.\n",
    "\n",
    "예시\n",
    "...\n",
    "c = bool(int(a))\n",
    "d = bool(int(b))\n",
    "print((c and (not d)) or ((not c) and d))\n",
    "\n",
    "참고\n",
    "참 거짓이 서로 다를 때에만 True 로 계산하는 논리연산을 XOR(exclusive or, 배타적 논리합) 연산이라고도 부른다.\n",
    "\n",
    "논리연산자는 사칙(+, -, *, /) 연산자와 마찬가지로 여러 번 중복해서 사용할 수 있는데, \n",
    "사칙 연산자와 마찬가지로 계산 순서를 표시하기 위해 괄호 ( )를 사용할 수 있다.\n",
    "괄호를 사용하면 계산 순서를 명확하게 표현할 수 있다.\n",
    "\n",
    "수학 식에서는 소괄호 (), 중괄호 {}, 대괄호 []를 사용하기도 하지만, 프로그래밍언어에서는 소괄호 ( ) 만 사용한다.\n",
    "\n",
    "** 불 대수(boolean algebra)는 수학자 불이 만들어낸 것으로 True(참)/False(거짓) 값만 가지는 논리값과 그 값들 사이의 연산을 다룬다."
   ]
  },
  {
   "cell_type": "markdown",
   "id": "b2d40198",
   "metadata": {},
   "source": [
    "        본 문제는 python 의 빠른 기초 학습을 위해 설계된 문제로서 python 코드 제출을 기준으로 설명되어 있습니다. \n",
    "------\n",
    "\n",
    "2개의 정수값이 입력될 때,\n",
    "그 불 값(True/False) 이 서로 같을 때에만 True 를 출력하는 프로그램을 작성해보자."
   ]
  },
  {
   "cell_type": "markdown",
   "id": "cf8f1413",
   "metadata": {},
   "source": [
    "본 문제는 python 의 빠른 기초 학습을 위해 설계된 문제로서 python 코드 제출을 기준으로 설명되어 있습니다. \n",
    "------\n",
    "\n",
    "2개의 정수값이 입력될 때,\n",
    "그 불 값(True/False) 이 서로 같을 때에만 True 를 출력하는 프로그램을 작성해보자."
   ]
  },
  {
   "cell_type": "code",
   "execution_count": 4,
   "id": "9adfb847",
   "metadata": {},
   "outputs": [
    {
     "ename": "KeyboardInterrupt",
     "evalue": "Interrupted by user",
     "output_type": "error",
     "traceback": [
      "\u001b[1;31m---------------------------------------------------------------------------\u001b[0m",
      "\u001b[1;31mKeyboardInterrupt\u001b[0m                         Traceback (most recent call last)",
      "Cell \u001b[1;32mIn[4], line 1\u001b[0m\n\u001b[1;32m----> 1\u001b[0m a, b \u001b[38;5;241m=\u001b[39m \u001b[38;5;28;43minput\u001b[39;49m\u001b[43m(\u001b[49m\u001b[43m)\u001b[49m\u001b[38;5;241m.\u001b[39msplit()\n\u001b[0;32m      2\u001b[0m a \u001b[38;5;241m=\u001b[39m \u001b[38;5;28mbool\u001b[39m(\u001b[38;5;28mint\u001b[39m(a))\n\u001b[0;32m      3\u001b[0m b \u001b[38;5;241m=\u001b[39m \u001b[38;5;28mbool\u001b[39m(\u001b[38;5;28mint\u001b[39m(b))\n",
      "File \u001b[1;32m~\\anaconda3\\lib\\site-packages\\ipykernel\\kernelbase.py:1175\u001b[0m, in \u001b[0;36mKernel.raw_input\u001b[1;34m(self, prompt)\u001b[0m\n\u001b[0;32m   1171\u001b[0m \u001b[38;5;28;01mif\u001b[39;00m \u001b[38;5;129;01mnot\u001b[39;00m \u001b[38;5;28mself\u001b[39m\u001b[38;5;241m.\u001b[39m_allow_stdin:\n\u001b[0;32m   1172\u001b[0m     \u001b[38;5;28;01mraise\u001b[39;00m StdinNotImplementedError(\n\u001b[0;32m   1173\u001b[0m         \u001b[38;5;124m\"\u001b[39m\u001b[38;5;124mraw_input was called, but this frontend does not support input requests.\u001b[39m\u001b[38;5;124m\"\u001b[39m\n\u001b[0;32m   1174\u001b[0m     )\n\u001b[1;32m-> 1175\u001b[0m \u001b[38;5;28;01mreturn\u001b[39;00m \u001b[38;5;28;43mself\u001b[39;49m\u001b[38;5;241;43m.\u001b[39;49m\u001b[43m_input_request\u001b[49m\u001b[43m(\u001b[49m\n\u001b[0;32m   1176\u001b[0m \u001b[43m    \u001b[49m\u001b[38;5;28;43mstr\u001b[39;49m\u001b[43m(\u001b[49m\u001b[43mprompt\u001b[49m\u001b[43m)\u001b[49m\u001b[43m,\u001b[49m\n\u001b[0;32m   1177\u001b[0m \u001b[43m    \u001b[49m\u001b[38;5;28;43mself\u001b[39;49m\u001b[38;5;241;43m.\u001b[39;49m\u001b[43m_parent_ident\u001b[49m\u001b[43m[\u001b[49m\u001b[38;5;124;43m\"\u001b[39;49m\u001b[38;5;124;43mshell\u001b[39;49m\u001b[38;5;124;43m\"\u001b[39;49m\u001b[43m]\u001b[49m\u001b[43m,\u001b[49m\n\u001b[0;32m   1178\u001b[0m \u001b[43m    \u001b[49m\u001b[38;5;28;43mself\u001b[39;49m\u001b[38;5;241;43m.\u001b[39;49m\u001b[43mget_parent\u001b[49m\u001b[43m(\u001b[49m\u001b[38;5;124;43m\"\u001b[39;49m\u001b[38;5;124;43mshell\u001b[39;49m\u001b[38;5;124;43m\"\u001b[39;49m\u001b[43m)\u001b[49m\u001b[43m,\u001b[49m\n\u001b[0;32m   1179\u001b[0m \u001b[43m    \u001b[49m\u001b[43mpassword\u001b[49m\u001b[38;5;241;43m=\u001b[39;49m\u001b[38;5;28;43;01mFalse\u001b[39;49;00m\u001b[43m,\u001b[49m\n\u001b[0;32m   1180\u001b[0m \u001b[43m\u001b[49m\u001b[43m)\u001b[49m\n",
      "File \u001b[1;32m~\\anaconda3\\lib\\site-packages\\ipykernel\\kernelbase.py:1217\u001b[0m, in \u001b[0;36mKernel._input_request\u001b[1;34m(self, prompt, ident, parent, password)\u001b[0m\n\u001b[0;32m   1214\u001b[0m             \u001b[38;5;28;01mbreak\u001b[39;00m\n\u001b[0;32m   1215\u001b[0m \u001b[38;5;28;01mexcept\u001b[39;00m \u001b[38;5;167;01mKeyboardInterrupt\u001b[39;00m:\n\u001b[0;32m   1216\u001b[0m     \u001b[38;5;66;03m# re-raise KeyboardInterrupt, to truncate traceback\u001b[39;00m\n\u001b[1;32m-> 1217\u001b[0m     \u001b[38;5;28;01mraise\u001b[39;00m \u001b[38;5;167;01mKeyboardInterrupt\u001b[39;00m(\u001b[38;5;124m\"\u001b[39m\u001b[38;5;124mInterrupted by user\u001b[39m\u001b[38;5;124m\"\u001b[39m) \u001b[38;5;28;01mfrom\u001b[39;00m \u001b[38;5;28mNone\u001b[39m\n\u001b[0;32m   1218\u001b[0m \u001b[38;5;28;01mexcept\u001b[39;00m \u001b[38;5;167;01mException\u001b[39;00m:\n\u001b[0;32m   1219\u001b[0m     \u001b[38;5;28mself\u001b[39m\u001b[38;5;241m.\u001b[39mlog\u001b[38;5;241m.\u001b[39mwarning(\u001b[38;5;124m\"\u001b[39m\u001b[38;5;124mInvalid Message:\u001b[39m\u001b[38;5;124m\"\u001b[39m, exc_info\u001b[38;5;241m=\u001b[39m\u001b[38;5;28;01mTrue\u001b[39;00m)\n",
      "\u001b[1;31mKeyboardInterrupt\u001b[0m: Interrupted by user"
     ]
    }
   ],
   "source": [
    "a, b = input().split()\n",
    "a = bool(int(a))\n",
    "b = bool(int(b))\n",
    "print(a==b)"
   ]
  },
  {
   "cell_type": "markdown",
   "id": "2f535920",
   "metadata": {},
   "source": [
    "본 문제는 python 의 빠른 기초 학습을 위해 설계된 문제로서 python 코드 제출을 기준으로 설명되어 있습니다. \n",
    "------\n",
    "\n",
    "2개의 정수값이 입력될 때,\n",
    "그 불 값(True/False) 이 서로 같을 때에만 True 를 출력하는 프로그램을 작성해보자."
   ]
  },
  {
   "cell_type": "code",
   "execution_count": null,
   "id": "ba497f48",
   "metadata": {},
   "outputs": [],
   "source": [
    "a, b = input().split()\n",
    "c= bool(int(a))\n",
    "d= bool(int(b))\n",
    "\n",
    "print( not (c or d) )"
   ]
  },
  {
   "cell_type": "markdown",
   "id": "9c8f55c4",
   "metadata": {},
   "source": [
    "본 문제는 python 의 빠른 기초 학습을 위해 설계된 문제로서 python 코드 제출을 기준으로 설명되어 있습니다. \n",
    "------\n",
    "\n",
    "입력 된 정수를 비트단위로 참/거짓을 바꾼 후 정수로 출력해보자.\n",
    "비트단위(bitwise)연산자 ~ 를 붙이면 된다.(~ : tilde, 틸드라고 읽는다.)\n",
    "\n",
    "** 비트단위(bitwise) 연산자는,\n",
    "~(bitwise not), &(bitwise and), |(bitwise or), ^(bitwise xor),\n",
    "<<(bitwise left shift), >>(bitwise right shift)\n",
    "가 있다.\n",
    "\n",
    "예를 들어 1이 입력되었을 때 저장되는 1을 32비트 2진수로 표현하면\n",
    "        00000000 00000000 00000000 00000001 이고,\n",
    "~1은 11111111 11111111 11111111 11111110 가 되는데 이는 -2를 의미한다.\n",
    "\n",
    "예시\n",
    "a = 1\n",
    "print(~a) #-2가 출력된다.\n",
    "\n",
    "참고\n",
    "컴퓨터에 저장되는 모든 데이터들은 2진수 형태로 바뀌어 저장된다.\n",
    "0과 1로만 구성되는 비트단위들로 변환되어 저장되는데,\n",
    "양의 정수는 2진수 형태로 바뀌어 저장되고, 음의 정수는 \"2의 보수 표현\"방법으로 저장된다.\n",
    "\n",
    "양의 정수 5를 32비트로 저장하면, \n",
    "\n",
    "5의 2진수 형태인 101이 32비트로 만들어져\n",
    "00000000 00000000 00000000 00000101\n",
    "로 저장된다.(공백은 보기 편하도록 임의로 분리)\n",
    "\n",
    "32비트 형의 정수 0은\n",
    "00000000 00000000 00000000 00000000\n",
    "\n",
    "그리고 -1은 0에서 1을 더 빼고 32비트만 표시하는 형태로\n",
    "11111111 11111111 11111111 11111111 로 저장된다.\n",
    "\n",
    "-2는 -1에서 1을 더 빼면 된다.\n",
    "11111111 11111111 11111111 11111110 로 저장된다.\n",
    "\n",
    "이러한 내용을 간단히 표현하면, 정수 n이라고 할 때,\n",
    "\n",
    "~n = -n - 1\n",
    "-n = ~n + 1 과 같은 관계로 표현할 수 있다.\n",
    "\n",
    "이 관계를 그림으로 그려보면 마치 원형으로 수들이 상대적으로 배치된 것과 같다."
   ]
  },
  {
   "cell_type": "code",
   "execution_count": null,
   "id": "4421b8c5",
   "metadata": {},
   "outputs": [],
   "source": [
    "a=int(input())\n",
    "print(~a)"
   ]
  },
  {
   "cell_type": "code",
   "execution_count": null,
   "id": "19ab64c8",
   "metadata": {},
   "outputs": [],
   "source": []
  }
 ],
 "metadata": {
  "kernelspec": {
   "display_name": "Python 3 (ipykernel)",
   "language": "python",
   "name": "python3"
  },
  "language_info": {
   "codemirror_mode": {
    "name": "ipython",
    "version": 3
   },
   "file_extension": ".py",
   "mimetype": "text/x-python",
   "name": "python",
   "nbconvert_exporter": "python",
   "pygments_lexer": "ipython3",
   "version": "3.10.9"
  }
 },
 "nbformat": 4,
 "nbformat_minor": 5
}
