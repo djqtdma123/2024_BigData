{
 "cells": [
  {
   "cell_type": "markdown",
   "id": "ab22fa38",
   "metadata": {},
   "source": [
    "## 30905_박경민_0408_1"
   ]
  },
  {
   "cell_type": "markdown",
   "id": "0ee6edf1",
   "metadata": {},
   "source": [
    "## 선택구조 조건이 하나 일떄\n",
    " -if문"
   ]
  },
  {
   "cell_type": "code",
   "execution_count": 5,
   "id": "b53f0788",
   "metadata": {},
   "outputs": [
    {
     "name": "stdout",
     "output_type": "stream",
     "text": [
      "청소년은 주류를 구매할 수 없습니다.\n"
     ]
    }
   ],
   "source": [
    "age = 19\n",
    "\n",
    "# 청소년은 주류를 구매할 수 없습니다.\n",
    "\n",
    "if age < 20 :\n",
    "    print(f'청소년은 주류를 구매할 수 없습니다.')"
   ]
  },
  {
   "cell_type": "code",
   "execution_count": 8,
   "id": "5babd5f3",
   "metadata": {},
   "outputs": [
    {
     "name": "stdout",
     "output_type": "stream",
     "text": [
      "나이가 어떻게 되세요? 20\n",
      "성인이시면 주류를 구매할 수 있습니다.\n"
     ]
    }
   ],
   "source": [
    "age = int(input('나이가 어떻게 되세요? '))\n",
    "\n",
    "if age < 20 :\n",
    "    print(f'청소년은 주류를 구매할 수 없습니다.')\n",
    "else :\n",
    "    print(f'성인이시면 주류를 구매할 수 있습니다.')"
   ]
  },
  {
   "cell_type": "code",
   "execution_count": 10,
   "id": "7060dc88",
   "metadata": {},
   "outputs": [
    {
     "name": "stdout",
     "output_type": "stream",
     "text": [
      "나이가 어떻게 되세요? 18\n",
      "청소년은 주류를 구매할 수 없습니다.\n",
      "2년 후에 구매 가능합니다.\n"
     ]
    }
   ],
   "source": [
    "age = int(input('나이가 어떻게 되세요? '))\n",
    "\n",
    "if age < 20 :\n",
    "    print(f'청소년은 주류를 구매할 수 없습니다.')\n",
    "print(f'{20-age}년 후에 구매 가능합니다.')"
   ]
  },
  {
   "cell_type": "markdown",
   "id": "aa0961a5",
   "metadata": {},
   "source": [
    "## 50000만원 이하이면 배송비 2500원이 추가 됩니다."
   ]
  },
  {
   "cell_type": "code",
   "execution_count": 19,
   "id": "e08b1744",
   "metadata": {},
   "outputs": [
    {
     "name": "stdout",
     "output_type": "stream",
     "text": [
      "구매 금액은? 50000\n",
      "배송비 무료입니다..\n",
      "최종 결제 금액은50000입니다.\n"
     ]
    }
   ],
   "source": [
    "price = int(input('구매 금액은? '))\n",
    "\n",
    "if price < 50000 :\n",
    "    print(f'배송비 2500원이 추가 됩니다.')\n",
    "    print(f'최종 결제 금액은{2500+price}입니다.')\n",
    "else :\n",
    "    print(f'배송비 무료입니다..')\n",
    "    print(f'최종 결제 금액은{price}입니다.')"
   ]
  },
  {
   "cell_type": "code",
   "execution_count": 25,
   "id": "f8f120dd",
   "metadata": {},
   "outputs": [
    {
     "name": "stdout",
     "output_type": "stream",
     "text": [
      "오늘은 며칠입니까?8\n",
      "홀수번호 차주만 통행 가능합니다.\n",
      "짝수번호 차주는 오늘 대중교통을 이용해 주세요.\n"
     ]
    }
   ],
   "source": [
    "# 차량 이부제\n",
    "date = int(input('오늘은 며칠입니까?'))\n",
    "\n",
    "if date % 2 == 0 :\n",
    "    print(f'홀수번호 차주만 통행 가능합니다.')\n",
    "    print(f'짝수번호 차주는 오늘 대중교통을 이용해 주세요.')"
   ]
  }
 ],
 "metadata": {
  "kernelspec": {
   "display_name": "Python 3 (ipykernel)",
   "language": "python",
   "name": "python3"
  },
  "language_info": {
   "codemirror_mode": {
    "name": "ipython",
    "version": 3
   },
   "file_extension": ".py",
   "mimetype": "text/x-python",
   "name": "python",
   "nbconvert_exporter": "python",
   "pygments_lexer": "ipython3",
   "version": "3.9.7"
  }
 },
 "nbformat": 4,
 "nbformat_minor": 5
}
