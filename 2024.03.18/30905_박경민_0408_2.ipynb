{
 "cells": [
  {
   "cell_type": "markdown",
   "id": "700a1b46",
   "metadata": {},
   "source": [
    "## 30905_박경민_0408_2"
   ]
  },
  {
   "cell_type": "markdown",
   "id": "1ab2148c",
   "metadata": {},
   "source": [
    "본 문제는 python 의 빠른 기초 학습을 위해 설계된 문제로서 python 코드 제출을 기준으로 설명되어 있습니다. \n",
    "------\n",
    "\n",
    "3개의 정수(a, b, c)가 입력되었을 때, 짝(even)/홀(odd)을 출력해보자.\n",
    "\n",
    "예시\n",
    "...\n",
    "if a%2==0 :\n",
    "  print(\"even\")\n",
    "else :\n",
    "  print(\"odd\") \n",
    "...\n",
    "\n",
    "참고 \n",
    "if 조건식 :  #조건식을 평가해서...\n",
    "  실행1      #True 인 경우 실행시킬 명령들...\n",
    "  실행2\n",
    "else :        \n",
    "  실행3      #False 인 경우 실행시킬 명령들...\n",
    "  실행4\n",
    "실행5       #조건식과 상관없는 다음 명령\n",
    "...\n",
    "\n",
    "else 는 if 없이 혼자 사용되지 않는다.\n",
    "또한, else 다음에는 조건식이 없는 이유는? True(참)가 아니면 False(거짓)이기 때문에... \n",
    "조건식의 평가 결과는 True 아니면 False 로 계산되기 때문이다.\n",
    "\n",
    "python 에서는 들여쓰기를 기준으로 코드블록을 구분하므로, 들여쓰기를 정확하게 해주어야 한다.\n"
   ]
  },
  {
   "cell_type": "code",
   "execution_count": 8,
   "id": "f36e6766",
   "metadata": {},
   "outputs": [
    {
     "ename": "KeyboardInterrupt",
     "evalue": "Interrupted by user",
     "output_type": "error",
     "traceback": [
      "\u001b[1;31m---------------------------------------------------------------------------\u001b[0m",
      "\u001b[1;31mKeyboardInterrupt\u001b[0m                         Traceback (most recent call last)",
      "\u001b[1;32m~\\AppData\\Local\\Temp/ipykernel_4940/2348329112.py\u001b[0m in \u001b[0;36m<module>\u001b[1;34m\u001b[0m\n\u001b[1;32m----> 1\u001b[1;33m \u001b[0ma\u001b[0m\u001b[1;33m,\u001b[0m \u001b[0mb\u001b[0m\u001b[1;33m,\u001b[0m \u001b[0mc\u001b[0m \u001b[1;33m=\u001b[0m \u001b[0mmap\u001b[0m\u001b[1;33m(\u001b[0m\u001b[0mint\u001b[0m\u001b[1;33m,\u001b[0m \u001b[0minput\u001b[0m\u001b[1;33m(\u001b[0m\u001b[1;33m)\u001b[0m\u001b[1;33m.\u001b[0m\u001b[0msplit\u001b[0m\u001b[1;33m(\u001b[0m\u001b[1;33m)\u001b[0m\u001b[1;33m)\u001b[0m\u001b[1;33m\u001b[0m\u001b[1;33m\u001b[0m\u001b[0m\n\u001b[0m\u001b[0;32m      2\u001b[0m \u001b[1;33m\u001b[0m\u001b[0m\n\u001b[0;32m      3\u001b[0m \u001b[1;32mif\u001b[0m \u001b[0ma\u001b[0m \u001b[1;33m%\u001b[0m \u001b[1;36m2\u001b[0m \u001b[1;33m==\u001b[0m \u001b[1;36m0\u001b[0m\u001b[1;33m:\u001b[0m\u001b[1;33m\u001b[0m\u001b[1;33m\u001b[0m\u001b[0m\n\u001b[0;32m      4\u001b[0m     \u001b[0mprint\u001b[0m\u001b[1;33m(\u001b[0m\u001b[1;34m\"even\"\u001b[0m\u001b[1;33m)\u001b[0m\u001b[1;33m\u001b[0m\u001b[1;33m\u001b[0m\u001b[0m\n\u001b[0;32m      5\u001b[0m \u001b[1;32melse\u001b[0m\u001b[1;33m:\u001b[0m\u001b[1;33m\u001b[0m\u001b[1;33m\u001b[0m\u001b[0m\n",
      "\u001b[1;32mC:\\ProgramData\\Anaconda3\\lib\\site-packages\\ipykernel\\kernelbase.py\u001b[0m in \u001b[0;36mraw_input\u001b[1;34m(self, prompt)\u001b[0m\n\u001b[0;32m   1004\u001b[0m                 \u001b[1;34m\"raw_input was called, but this frontend does not support input requests.\"\u001b[0m\u001b[1;33m\u001b[0m\u001b[1;33m\u001b[0m\u001b[0m\n\u001b[0;32m   1005\u001b[0m             )\n\u001b[1;32m-> 1006\u001b[1;33m         return self._input_request(\n\u001b[0m\u001b[0;32m   1007\u001b[0m             \u001b[0mstr\u001b[0m\u001b[1;33m(\u001b[0m\u001b[0mprompt\u001b[0m\u001b[1;33m)\u001b[0m\u001b[1;33m,\u001b[0m\u001b[1;33m\u001b[0m\u001b[1;33m\u001b[0m\u001b[0m\n\u001b[0;32m   1008\u001b[0m             \u001b[0mself\u001b[0m\u001b[1;33m.\u001b[0m\u001b[0m_parent_ident\u001b[0m\u001b[1;33m[\u001b[0m\u001b[1;34m\"shell\"\u001b[0m\u001b[1;33m]\u001b[0m\u001b[1;33m,\u001b[0m\u001b[1;33m\u001b[0m\u001b[1;33m\u001b[0m\u001b[0m\n",
      "\u001b[1;32mC:\\ProgramData\\Anaconda3\\lib\\site-packages\\ipykernel\\kernelbase.py\u001b[0m in \u001b[0;36m_input_request\u001b[1;34m(self, prompt, ident, parent, password)\u001b[0m\n\u001b[0;32m   1049\u001b[0m             \u001b[1;32mexcept\u001b[0m \u001b[0mKeyboardInterrupt\u001b[0m\u001b[1;33m:\u001b[0m\u001b[1;33m\u001b[0m\u001b[1;33m\u001b[0m\u001b[0m\n\u001b[0;32m   1050\u001b[0m                 \u001b[1;31m# re-raise KeyboardInterrupt, to truncate traceback\u001b[0m\u001b[1;33m\u001b[0m\u001b[1;33m\u001b[0m\u001b[0m\n\u001b[1;32m-> 1051\u001b[1;33m                 \u001b[1;32mraise\u001b[0m \u001b[0mKeyboardInterrupt\u001b[0m\u001b[1;33m(\u001b[0m\u001b[1;34m\"Interrupted by user\"\u001b[0m\u001b[1;33m)\u001b[0m \u001b[1;32mfrom\u001b[0m \u001b[1;32mNone\u001b[0m\u001b[1;33m\u001b[0m\u001b[1;33m\u001b[0m\u001b[0m\n\u001b[0m\u001b[0;32m   1052\u001b[0m             \u001b[1;32mexcept\u001b[0m \u001b[0mException\u001b[0m\u001b[1;33m:\u001b[0m\u001b[1;33m\u001b[0m\u001b[1;33m\u001b[0m\u001b[0m\n\u001b[0;32m   1053\u001b[0m                 \u001b[0mself\u001b[0m\u001b[1;33m.\u001b[0m\u001b[0mlog\u001b[0m\u001b[1;33m.\u001b[0m\u001b[0mwarning\u001b[0m\u001b[1;33m(\u001b[0m\u001b[1;34m\"Invalid Message:\"\u001b[0m\u001b[1;33m,\u001b[0m \u001b[0mexc_info\u001b[0m\u001b[1;33m=\u001b[0m\u001b[1;32mTrue\u001b[0m\u001b[1;33m)\u001b[0m\u001b[1;33m\u001b[0m\u001b[1;33m\u001b[0m\u001b[0m\n",
      "\u001b[1;31mKeyboardInterrupt\u001b[0m: Interrupted by user"
     ]
    }
   ],
   "source": [
    "a, b, c = map(int, input().split())\n",
    "\n",
    "if a % 2 == 0:\n",
    "    print(\"even\")\n",
    "else:\n",
    "    print(\"odd\")\n",
    "\n",
    "if b % 2 == 0:\n",
    "    print(\"even\")\n",
    "else:\n",
    "    print(\"odd\")\n",
    "\n",
    "if c % 2 == 0:\n",
    "    print(\"even\")\n",
    "else:\n",
    "    print(\"odd\")"
   ]
  },
  {
   "cell_type": "code",
   "execution_count": null,
   "id": "6ce9e19d",
   "metadata": {},
   "outputs": [],
   "source": [
    "본 문제는 python 의 빠른 기초 학습을 위해 설계된 문제로서 python 코드 제출을 기준으로 설명되어 있습니다. \n",
    "------\n",
    "\n",
    "0이 아닌 정수 1개가 입력되었을 때, 음(-)/양(+)과 짝(even)/홀(odd)을 구분해 분류해보자.\n",
    "음수이면서 짝수이면, A\n",
    "음수이면서 홀수이면, B\n",
    "양수이면서 짝수이면, C\n",
    "양수이면서 홀수이면, D\n",
    "를 출력한다.\n",
    "\n",
    "예시\n",
    "...\n",
    "if n<0 :\n",
    "  if n%2==0 :\n",
    "    print('A')      #주의 : 변수 A와 문자열 'A' / \"A\" 는 의미가 완전히 다르다. \n",
    "  else :\n",
    "    print('B')\n",
    "else :\n",
    "  if n%2==0 :\n",
    "    print('C')\n",
    "  else :\n",
    "    print('D')\n",
    "...\n",
    "\n",
    "참고\n",
    "조건/선택 실행구조 안에 다시 조건/선택 실행구조를 \"중첩\"할 수가 있다.\n",
    "\n",
    "또한, 중첩된 조건은\n",
    "...\n",
    "if (n<0) and (n%2==0) :\n",
    "    print('A')\n",
    "...\n",
    "와 같이 논리연산자(not, and, or)를 이용해 합쳐 표현할 수도 있다.\n",
    "비교연산(<, >, <=, >=, ==, !=) 의 계산 결과는 True 또는 False 의 불(boolean) 값이고,\n",
    "불 값들 사이의 논리연산(not, and, or)의 결과도 True 또는 False 의 불 값이다.\n"
   ]
  },
  {
   "cell_type": "code",
   "execution_count": null,
   "id": "5ca775d4",
   "metadata": {},
   "outputs": [],
   "source": [
    "n = int(input())\n",
    "if n < 0 :\n",
    "    if n % 2 == 0:\n",
    "        print('A')\n",
    "    else:\n",
    "        print('B')\n",
    "else :\n",
    "    if n % 2 == 0:\n",
    "        print('C')\n",
    "    else:\n",
    "        print('D')"
   ]
  },
  {
   "cell_type": "code",
   "execution_count": null,
   "id": "33c59268",
   "metadata": {},
   "outputs": [],
   "source": [
    "본 문제는 python 의 빠른 기초 학습을 위해 설계된 문제로서 python 코드 제출을 기준으로 설명되어 있습니다. \n",
    "------\n",
    "\n",
    "점수(정수, 0 ~ 100)를 입력받아 평가를 출력해보자.\n",
    "\n",
    "평가 기준\n",
    "점수 범위 : 평가\n",
    " 90 ~ 100 : A\n",
    " 70 ~   89 : B\n",
    " 40 ~   69 : C\n",
    "   0 ~   39 : D\n",
    "로 평가되어야 한다.\n",
    "\n",
    "예시\n",
    "...\n",
    "if n>=90 :\n",
    "  print('A')\n",
    "else :\n",
    "  if n>=70 :\n",
    "    print('B')\n",
    "  else :\n",
    "    if n>=40 :\n",
    "      print('C')\n",
    "    else :\n",
    "      print('D') \n",
    "...\n",
    "\n",
    "참고\n",
    "여러 조건들을 순서대로 비교하면서 처리하기 위해서 조건문을 여러 번 중첩할 수 있다.\n",
    "\n",
    "if 조건식1 :\n",
    "  ...\n",
    "else :\n",
    "  if 조건식2 :\n",
    "    ...\n",
    "  else :\n",
    "    if 조건식3 :\n",
    "      ...\n",
    "    else :\n",
    "      ...\n",
    "...\n",
    "와 같이 조건/선택 실행 구조를 겹쳐 작성하면 순서대로 조건을 검사할 수 있다.\n",
    "어떤 조건이 참이면 그 부분의 내용을 실행하고 전체 조건/선택 구조를 빠져나가게 된다.\n",
    "\n",
    "if 조건식1 : \n",
    "  ... \n",
    "elif 조건식2 : \n",
    "  ... \n",
    "elif 조건식3 : \n",
    "  ... \n",
    "else : \n",
    "  ...\n",
    "도 똑같은 기능을 한다. elif는 else if 의 짧은 약어라고 생각해도 된다.\n",
    "elif 를 사용하면 if ... else ... 구조를 겹쳐 사용할 때처럼, 여러 번 안 쪽으로 들여쓰기 하지 않아도 된다.\n"
   ]
  },
  {
   "cell_type": "code",
   "execution_count": 11,
   "id": "d64cd744",
   "metadata": {
    "scrolled": true
   },
   "outputs": [
    {
     "ename": "IndentationError",
     "evalue": "unindent does not match any outer indentation level (<tokenize>, line 5)",
     "output_type": "error",
     "traceback": [
      "\u001b[1;36m  File \u001b[1;32m\"<tokenize>\"\u001b[1;36m, line \u001b[1;32m5\u001b[0m\n\u001b[1;33m    else if n >=40:\u001b[0m\n\u001b[1;37m    ^\u001b[0m\n\u001b[1;31mIndentationError\u001b[0m\u001b[1;31m:\u001b[0m unindent does not match any outer indentation level\n"
     ]
    }
   ],
   "source": [
    "a=int(input())\n",
    "\n",
    "if a>=90:\n",
    "    print(\"A\")\n",
    "elif a>=70:\n",
    "    print(\"B\")\n",
    "elif a>=40:\n",
    "    print(\"C\")\n",
    "else:\n",
    "    print(\"D\")"
   ]
  },
  {
   "cell_type": "markdown",
   "id": "0751e517",
   "metadata": {},
   "source": [
    "본 문제는 python 의 빠른 기초 학습을 위해 설계된 문제로서 python 코드 제출을 기준으로 설명되어 있습니다. \n",
    "------\n",
    "\n",
    "평가를 문자(A, B, C, D, ...)로 입력받아 내용을 다르게 출력해보자.\n",
    "\n",
    "평가 내용\n",
    "평가 : 내용\n",
    "A : best!!!\n",
    "B : good!!\n",
    "C : run!\n",
    "D : slowly~\n",
    "나머지 문자들 : what?"
   ]
  },
  {
   "cell_type": "code",
   "execution_count": null,
   "id": "8253e02f",
   "metadata": {},
   "outputs": [],
   "source": [
    "a=input()\n",
    "\n",
    "if a=='A':\n",
    "    print(\"best!!!\")\n",
    "elif a=='B':\n",
    "    print(\"good!!\")\n",
    "elif a=='C':\n",
    "    print(\"run!\")\n",
    "elif a=='D':\n",
    "    print(\"slowly~\")\n",
    "else:\n",
    "    print(\"what?\")  "
   ]
  },
  {
   "cell_type": "code",
   "execution_count": null,
   "id": "e30997b4",
   "metadata": {},
   "outputs": [],
   "source": [
    "본 문제는 python 의 빠른 기초 학습을 위해 설계된 문제로서 python 코드 제출을 기준으로 설명되어 있습니다. \n",
    "------\n",
    "\n",
    "월이 입력될 때 계절 이름이 출력되도록 해보자.\n",
    "\n",
    "월 : 계절 이름\n",
    "12, 1, 2 : winter\n",
    "  3, 4, 5 : spring\n",
    "  6, 7, 8 : summer\n",
    "  9, 10, 11 : fall\n",
    "\n",
    "예시\n",
    "...\n",
    "if n//3==1 :\n",
    "  print(\"spring\")\n",
    "...\n",
    "\n",
    "참고\n",
    "때때로 수들의 특징을 관찰하고 이용하면 매우 간단히 해결할 수도 있다."
   ]
  },
  {
   "cell_type": "code",
   "execution_count": null,
   "id": "a9d7901a",
   "metadata": {},
   "outputs": [],
   "source": [
    "a=input()\n",
    "\n",
    "if a//3==1\n",
    "    print(\"spring\")\n",
    "elif a//6==3\n",
    "    print(\"summer\")\n",
    "elif a//9==6\n",
    "    print(\"fall\"))\n",
    "elif a//12==19\n",
    "    print(\"winter\")"
   ]
  }
 ],
 "metadata": {
  "kernelspec": {
   "display_name": "Python 3 (ipykernel)",
   "language": "python",
   "name": "python3"
  },
  "language_info": {
   "codemirror_mode": {
    "name": "ipython",
    "version": 3
   },
   "file_extension": ".py",
   "mimetype": "text/x-python",
   "name": "python",
   "nbconvert_exporter": "python",
   "pygments_lexer": "ipython3",
   "version": "3.9.7"
  }
 },
 "nbformat": 4,
 "nbformat_minor": 5
}
