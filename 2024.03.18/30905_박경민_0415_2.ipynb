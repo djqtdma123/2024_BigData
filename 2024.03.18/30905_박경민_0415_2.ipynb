{
 "cells": [
  {
   "cell_type": "markdown",
   "id": "1e3c4438",
   "metadata": {},
   "source": [
    "## 30905_박경민_0415_2"
   ]
  },
  {
   "cell_type": "markdown",
   "id": "5d47d172",
   "metadata": {},
   "source": [
    "본 문제는 python 의 빠른 기초 학습을 위해 설계된 문제로서 python 코드 제출을 기준으로 설명되어 있습니다. \n",
    "------\n",
    "\n",
    "영문 소문자 'q'가 입력될 때까지\n",
    "입력한 문자를 계속 출력하는 프로그램을 작성해보자."
   ]
  },
  {
   "cell_type": "code",
   "execution_count": null,
   "id": "2c5da6d9",
   "metadata": {},
   "outputs": [],
   "source": [
    "while True:\n",
    "     x=input()\n",
    "     print(x)\n",
    "     if x=='q':\n",
    "          break"
   ]
  },
  {
   "cell_type": "code",
   "execution_count": null,
   "id": "2e12b6c3",
   "metadata": {},
   "outputs": [],
   "source": [
    "본 문제는 python 의 빠른 기초 학습을 위해 설계된 문제로서 python 코드 제출을 기준으로 설명되어 있습니다. \n",
    "------\n",
    "\n",
    "1, 2, 3 ... 을 계속 더해 나갈 때,\n",
    "그 합이 입력한 정수(0 ~ 1000)보다 같거나 작을 때까지만\n",
    "계속 더하는 프로그램을 작성해보자.\n",
    "\n",
    "즉, 1부터 n까지 정수를 계속 더해 나간다고 할 때,\n",
    "어디까지 더해야 입력한 수보다 같거나 커지는 지를 알아보고자하는 문제이다."
   ]
  },
  {
   "cell_type": "code",
   "execution_count": null,
   "id": "670fb0ef",
   "metadata": {},
   "outputs": [],
   "source": [
    "n = int(input())\n",
    "\n",
    "s = 0\n",
    "t = 0\n",
    "while s<n :\n",
    "  t = t+1\n",
    "  s = s+t\n",
    "  \n",
    "print(t)"
   ]
  },
  {
   "cell_type": "code",
   "execution_count": null,
   "id": "ce802c72",
   "metadata": {},
   "outputs": [],
   "source": [
    "본 문제는 python 의 빠른 기초 학습을 위해 설계된 문제로서 python 코드 제출을 기준으로 설명되어 있습니다. \n",
    "------\n",
    "\n",
    "1부터 n까지, 1부터 m까지 숫자가 적힌 서로 다른 주사위 2개를 던졌을 때,\n",
    "나올 수 있는 모든 경우를 출력해보자.\n",
    "\n",
    "예시\n",
    "...\n",
    "for i in range(1, n+1) :\n",
    "  for j in range(1, m+1) :\n",
    "    print(i, j)\n",
    "...\n",
    "\n",
    "참고\n",
    "위 코드는\n",
    "바깥쪽의 i 값이 1부터 n까지 순서대로 바뀌는 각각의 동안에\n",
    "안쪽의 j 값이 다시 1부터 m까지 변하며 출력되는 코드이다.\n",
    "\n",
    "조건선택 실행구조 안에 다른 조건선택 실행구조를 넣어 처리할 수 있는 것과 마찬가지로\n",
    "반복 실행구조 안에 다른 반복 실행구조를 넣어 처리할 수 있다.\n",
    "\n",
    "원하는 형태로 실행 구조를 결합하거나 중첩시킬 수 있다."
   ]
  },
  {
   "cell_type": "code",
   "execution_count": null,
   "id": "9c8f5b60",
   "metadata": {},
   "outputs": [],
   "source": [
    "n,m=input(),split()\n",
    "\n",
    "n=int(n)\n",
    "m=int(m)\n",
    "\n",
    "for i in range(1,n+1):\n",
    "    for j in range(1,m+1):\n",
    "        print(i,j)"
   ]
  },
  {
   "cell_type": "code",
   "execution_count": null,
   "id": "c758e2bc",
   "metadata": {},
   "outputs": [],
   "source": [
    "본 문제는 python 의 빠른 기초 학습을 위해 설계된 문제로서 python 코드 제출을 기준으로 설명되어 있습니다. \n",
    "------\n",
    "\n",
    "16진수(0, 1, 2, 3, 4, 5, 6, 7, 8, 9, A, B, C, D, E, F)를 배운\n",
    "영일이는 16진수끼리 곱하는 16진수 구구단?에 대해서 궁금해졌다.\n",
    "\n",
    "A, B, C, D, E, F 중 하나가 입력될 때,\n",
    "1부터 F까지 곱한 16진수 구구단의 내용을 출력해보자.\n",
    "(단, A ~ F 까지만 입력된다.)\n",
    "\n",
    "예시\n",
    "...\n",
    "  print('%X'%n, '*%X'%i, '=%X'%(n*i), sep='')\n",
    "...\n",
    "\n",
    "참고\n",
    "print('%X'%n)    #n에 저장되어있는 값을 16진수(hexadecimal) 형태로 출력\n",
    "작은 따옴표 2개를 사용해서 print(..., sep='') 으로 출력하면, 공백없이 모두 붙여 출력된다.\n",
    "작은 따옴표 2개 '' 또는 큰 따옴표 2개 \"\" 는 아무 문자도 없는 빈문자열(empty string)을 의미한다."
   ]
  },
  {
   "cell_type": "code",
   "execution_count": null,
   "id": "549fc651",
   "metadata": {},
   "outputs": [],
   "source": [
    "n = int(input(), 16)\n",
    "\n",
    "for i in range(1, 16) :\n",
    "  print('%X'%n, '*%X'%i, '=%X'%(n*i), sep='')"
   ]
  },
  {
   "cell_type": "code",
   "execution_count": null,
   "id": "731a6920",
   "metadata": {},
   "outputs": [],
   "source": [
    "본 문제는 python 의 빠른 기초 학습을 위해 설계된 문제로서 python 코드 제출을 기준으로 설명되어 있습니다. \n",
    "------\n",
    "\n",
    "친구들과 함께 3 6 9 게임을 하던 영일이는 잦은 실수 때문에 계속해서 벌칙을 받게 되었다.\n",
    "3 6 9 게임의 왕이 되기 위한 369 마스터 프로그램을 작성해 보자.\n",
    "\n",
    "** 3 6 9 게임은?\n",
    "여러 사람이 순서를 정한 후, 순서대로 수를 부르는 게임이다.\n",
    "만약 3, 6, 9 가 들어간 수를 자신이 불러야 하는 상황이라면, 수를 부르는 대신 \"박수(X)\" 를 쳐야 한다.\n",
    "33과 같이 3,6,9가 두 번 들어간 수 일때, \"짝짝\"과 같이 박수를 두 번 치는 형태도 있다. \n",
    "\n",
    "참고 \n",
    "...\n",
    "for i in range(1, n+1) :\n",
    "  if i%10==3 :\n",
    "    print(\"X\", end=' ')    #출력 후 공백문자(빈칸, ' ')로 끝냄\n",
    "..."
   ]
  },
  {
   "cell_type": "code",
   "execution_count": null,
   "id": "bc05adc2",
   "metadata": {},
   "outputs": [],
   "source": [
    "n = int(input())\n",
    "\n",
    "for i in range(1, n+1) :\n",
    "  if i%10==3 or i%10==6 or i%10==9 :\n",
    "    print(\"X\", end=' ')\n",
    "  else :\n",
    "    print(i, end=' ')"
   ]
  },
  {
   "cell_type": "code",
   "execution_count": null,
   "id": "f70e4607",
   "metadata": {},
   "outputs": [],
   "source": []
  }
 ],
 "metadata": {
  "kernelspec": {
   "display_name": "Python 3 (ipykernel)",
   "language": "python",
   "name": "python3"
  },
  "language_info": {
   "codemirror_mode": {
    "name": "ipython",
    "version": 3
   },
   "file_extension": ".py",
   "mimetype": "text/x-python",
   "name": "python",
   "nbconvert_exporter": "python",
   "pygments_lexer": "ipython3",
   "version": "3.9.7"
  }
 },
 "nbformat": 4,
 "nbformat_minor": 5
}
