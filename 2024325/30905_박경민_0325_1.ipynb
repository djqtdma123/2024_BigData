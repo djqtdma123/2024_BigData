{
 "cells": [
  {
   "cell_type": "markdown",
   "id": "7946b466",
   "metadata": {},
   "source": [
    "## 30905_박경민_0325_1"
   ]
  },
  {
   "cell_type": "code",
   "execution_count": 31,
   "id": "ae086021",
   "metadata": {},
   "outputs": [
    {
     "ename": "SyntaxError",
     "evalue": "invalid syntax (Temp/ipykernel_4892/586682030.py, line 9)",
     "output_type": "error",
     "traceback": [
      "\u001b[1;36m  File \u001b[1;32m\"C:\\Users\\user\\AppData\\Local\\Temp/ipykernel_4892/586682030.py\"\u001b[1;36m, line \u001b[1;32m9\u001b[0m\n\u001b[1;33m    if n > 0;\u001b[0m\n\u001b[1;37m            ^\u001b[0m\n\u001b[1;31mSyntaxError\u001b[0m\u001b[1;31m:\u001b[0m invalid syntax\n"
     ]
    }
   ],
   "source": [
    "#1부터n 까지 정수의 합 구하기\n",
    "print('1부터 n가지 정수의 합을 구합니다.')\n",
    "\n",
    "\n",
    "\n",
    "# n값이 0보다 크면 빠져나간다.\n",
    "while True:\n",
    "    n = int(input('n값을 입력하세요.: '))\n",
    "    if n > 0;\n",
    "    break\n",
    "\n",
    "#변수 선언 및 초기화        \n",
    "sum = 0\n",
    "i = 1\n",
    "\n",
    "for i in range(1, n+1):\n",
    "    sum += i\n",
    "    i += 1\n",
    "    \n",
    "print(f'1부터 {n}까지 정수의 합은 {sum}입니다.')"
   ]
  },
  {
   "cell_type": "code",
   "execution_count": 17,
   "id": "4bbb9756",
   "metadata": {},
   "outputs": [
    {
     "ename": "SyntaxError",
     "evalue": "invalid syntax (Temp/ipykernel_4892/133879380.py, line 1)",
     "output_type": "error",
     "traceback": [
      "\u001b[1;36m  File \u001b[1;32m\"C:\\Users\\user\\AppData\\Local\\Temp/ipykernel_4892/133879380.py\"\u001b[1;36m, line \u001b[1;32m1\u001b[0m\n\u001b[1;33m    변의 길이와 넓이가 모두 정수인 직사각형에서 변의길이\u001b[0m\n\u001b[1;37m       ^\u001b[0m\n\u001b[1;31mSyntaxError\u001b[0m\u001b[1;31m:\u001b[0m invalid syntax\n"
     ]
    }
   ],
   "source": [
    " 변의 길이와 넓이가 모두 정수인 직사각형에서 변의길이\n",
    "    를 구하는 프로그램\n",
    "    짧은 변과 긴 변의 길이는 구별하지 않음\n",
    " 예) 직사각형의 넓이가 32이면\n",
    "    변의 길이를 1 x 32,2 x 16.4 x 8만 출력"
   ]
  },
  {
   "cell_type": "code",
   "execution_count": 32,
   "id": "e38d50f5",
   "metadata": {},
   "outputs": [
    {
     "name": "stdout",
     "output_type": "stream",
     "text": [
      "직사각형의 넓이를 입력하세요.: 1\n",
      "1 x 1\n"
     ]
    }
   ],
   "source": [
    "# 가로, 세로 길이가 정수이고 넓이가 grea인 직사각형에서 변의 길이나열하기\n",
    "\n",
    "\n",
    "area = int(input('직사각형의 넓이를 입력하세요.: '))\n",
    "\n",
    "for i in range(1, area+1):\n",
    "    if i * i > area : break\n",
    "    if area % i :continue\n",
    "    print(f'{i} x {area // i}')"
   ]
  },
  {
   "cell_type": "code",
   "execution_count": null,
   "id": "7e5cb8c8",
   "metadata": {},
   "outputs": [],
   "source": []
  }
 ],
 "metadata": {
  "kernelspec": {
   "display_name": "Python 3 (ipykernel)",
   "language": "python",
   "name": "python3"
  },
  "language_info": {
   "codemirror_mode": {
    "name": "ipython",
    "version": 3
   },
   "file_extension": ".py",
   "mimetype": "text/x-python",
   "name": "python",
   "nbconvert_exporter": "python",
   "pygments_lexer": "ipython3",
   "version": "3.9.7"
  }
 },
 "nbformat": 4,
 "nbformat_minor": 5
}
