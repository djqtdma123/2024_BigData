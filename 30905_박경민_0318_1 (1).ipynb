{
 "cells": [
  {
   "cell_type": "markdown",
   "id": "519821ba",
   "metadata": {},
   "source": [
    "## 30905_박경민_0318_1"
   ]
  },
  {
   "cell_type": "code",
   "execution_count": 21,
   "id": "6046fb88",
   "metadata": {},
   "outputs": [
    {
     "name": "stdout",
     "output_type": "stream",
     "text": [
      "세 정수를 입력받아 최댓값 구하기.\n",
      "정수 a의 값을 입력하세요1\n",
      "정수 b의 값을 입력하세요3\n",
      "정수 c의 값을 입력하세요5\n",
      "최대값은 5입니다.\n"
     ]
    }
   ],
   "source": [
    "#  세 정수를 입력받아 최댓값 구하기\n",
    "\n",
    "print('세 정수를 입력받아 최댓값 구하기.')\n",
    "\n",
    "a = int(input('정수 a의 값을 입력하세요'))\n",
    "b = int(input('정수 b의 값을 입력하세요'))\n",
    "c = int(input('정수 c의 값을 입력하세요'))\n",
    "\n",
    "# 최댓값을 구하는 알고리즘\n",
    "max = a\n",
    "if b > max : max = b\n",
    "if c > max : max = c\n",
    "    \n",
    "print(f'최대값은 {max}입니다.')\n",
    "# 델리데이션 검증이라 한다."
   ]
  },
  {
   "cell_type": "code",
   "execution_count": 23,
   "id": "51433657",
   "metadata": {},
   "outputs": [
    {
     "ename": "SyntaxError",
     "evalue": "invalid syntax (Temp/ipykernel_10476/4222166088.py, line 4)",
     "output_type": "error",
     "traceback": [
      "\u001b[1;36m  File \u001b[1;32m\"C:\\Users\\user\\AppData\\Local\\Temp/ipykernel_10476/4222166088.py\"\u001b[1;36m, line \u001b[1;32m4\u001b[0m\n\u001b[1;33m    if d > 0 :\u001b[0m\n\u001b[1;37m             ^\u001b[0m\n\u001b[1;31mSyntaxError\u001b[0m\u001b[1;31m:\u001b[0m invalid syntax\n"
     ]
    }
   ],
   "source": [
    "d = int(input('정수 a의 값을 입력하세요. :')\n",
    "        \n",
    "        \n",
    "if d > 0 : \n",
    "        print('이 수는 양수입니다.')\n",
    "elif d < 0 :\n",
    "        print('이 수는 음수입니다.')\n",
    "else :\n",
    "        print('이 수는 0입니다.')"
   ]
  },
  {
   "cell_type": "code",
   "execution_count": 29,
   "id": "3364bddd",
   "metadata": {},
   "outputs": [
    {
     "ename": "SyntaxError",
     "evalue": "invalid syntax (Temp/ipykernel_10476/2728190692.py, line 10)",
     "output_type": "error",
     "traceback": [
      "\u001b[1;36m  File \u001b[1;32m\"C:\\Users\\user\\AppData\\Local\\Temp/ipykernel_10476/2728190692.py\"\u001b[1;36m, line \u001b[1;32m10\u001b[0m\n\u001b[1;33m    while <= n :\u001b[0m\n\u001b[1;37m          ^\u001b[0m\n\u001b[1;31mSyntaxError\u001b[0m\u001b[1;31m:\u001b[0m invalid syntax\n"
     ]
    }
   ],
   "source": [
    "# while문 이용\n",
    "# 1 부터 n까지 정수의 합 구하기\n",
    "\n",
    "print('1부터 n까지 정수의 합을 구합니다.')\n",
    "n = int(input('n값을 입력하세요.: '))\n",
    "\n",
    "sum = 0 #초기화\n",
    "i = 1\n",
    "\n",
    "while <= n :\n",
    "    sum += i #sum = sum +i\n",
    "    i += 1 #i = i +1\n",
    "    \n",
    "#출력\n",
    "print(f'1부터 {n}까지 정수의 합은 {sum}입니다)"
   ]
  },
  {
   "cell_type": "code",
   "execution_count": null,
   "id": "066d862f",
   "metadata": {},
   "outputs": [],
   "source": []
  }
 ],
 "metadata": {
  "kernelspec": {
   "display_name": "Python 3 (ipykernel)",
   "language": "python",
   "name": "python3"
  },
  "language_info": {
   "codemirror_mode": {
    "name": "ipython",
    "version": 3
   },
   "file_extension": ".py",
   "mimetype": "text/x-python",
   "name": "python",
   "nbconvert_exporter": "python",
   "pygments_lexer": "ipython3",
   "version": "3.9.7"
  }
 },
 "nbformat": 4,
 "nbformat_minor": 5
}
