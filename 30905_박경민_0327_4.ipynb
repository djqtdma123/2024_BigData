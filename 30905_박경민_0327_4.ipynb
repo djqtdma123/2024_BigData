{
  "nbformat": 4,
  "nbformat_minor": 0,
  "metadata": {
    "colab": {
      "provenance": []
    },
    "kernelspec": {
      "name": "python3",
      "display_name": "Python 3"
    },
    "language_info": {
      "name": "python"
    }
  },
  "cells": [
    {
      "cell_type": "code",
      "execution_count": 4,
      "metadata": {
        "colab": {
          "base_uri": "https://localhost:8080/"
        },
        "id": "Q9ADGd2q6NPb",
        "outputId": "a15681d3-9788-4e25-e2db-0bb8032f0d2f"
      },
      "outputs": [
        {
          "output_type": "stream",
          "name": "stdout",
          "text": [
            "학생의 그룹 점수의 한계와 평균을 구합니다\n",
            "1번 학생의 점수를 입력하세요.:13\n",
            "2번 학생의 점수를 입력하세요.:243\n",
            "3번 학생의 점수를 입력하세요.:35\n",
            "4번 학생의 점수를 입력하세요.:65\n",
            "5번 학생의 점수를 입력하세요.:87\n",
            "합계는 443점입니다.\n",
            "합계는 88.6점입니다.\n"
          ]
        }
      ],
      "source": [
        "# 학생 5명의 시험 점수를 입력받아 합계의 평균을 출력하기\n",
        "\n",
        "\n",
        "print('학생의 그룹 점수의 한계와 평균을 구합니다')\n",
        "a = int(input('1번 학생의 점수를 입력하세요.:'))\n",
        "b = int(input('2번 학생의 점수를 입력하세요.:'))\n",
        "c = int(input('3번 학생의 점수를 입력하세요.:'))\n",
        "d = int(input('4번 학생의 점수를 입력하세요.:'))\n",
        "e = int(input('5번 학생의 점수를 입력하세요.:'))\n",
        "\n",
        "total = 0\n",
        "total += a\n",
        "total += b\n",
        "total += c\n",
        "total += d\n",
        "total += e\n",
        "\n",
        "print(f'합계는 {total}점입니다.')\n",
        "print(f'합계는 {total / 5}점입니다.')"
      ]
    },
    {
      "cell_type": "code",
      "source": [
        "a = tuple(range(3,9))\n",
        "print(a)"
      ],
      "metadata": {
        "colab": {
          "base_uri": "https://localhost:8080/"
        },
        "id": "sOCX_hUF_vEm",
        "outputId": "c969ecee-9ad1-4595-9826-b4e108136214"
      },
      "execution_count": 7,
      "outputs": [
        {
          "output_type": "stream",
          "name": "stdout",
          "text": [
            "(3, 4, 5, 6, 7, 8)\n"
          ]
        }
      ]
    },
    {
      "cell_type": "code",
      "source": [
        "tuple01 = ()\n",
        "tuple02 = 1,2,3\n",
        "tuple03 = 'A','B','C'\n",
        "\n",
        "print(tuple01)\n",
        "print(tuple02)\n",
        "print(tuple03)"
      ],
      "metadata": {
        "colab": {
          "base_uri": "https://localhost:8080/"
        },
        "id": "RI0jEbtg_NAZ",
        "outputId": "2e9323c1-c048-4547-b0e8-9c7850785d90"
      },
      "execution_count": 6,
      "outputs": [
        {
          "output_type": "stream",
          "name": "stdout",
          "text": [
            "()\n",
            "(1, 2, 3)\n",
            "('A', 'B', 'C')\n"
          ]
        }
      ]
    },
    {
      "cell_type": "markdown",
      "source": [
        "-튜플\n",
        "  -원소에 순서로 매겨 결함한 것으로 원소를\n",
        "  변경할 수 없는 자료형\n",
        "  -()만 사용하면 빈 튜플 생성"
      ],
      "metadata": {
        "id": "dlq7eXm4-77o"
      }
    },
    {
      "cell_type": "code",
      "source": [
        "# list 신언\n",
        "list01 = [] # 빈리스트\n",
        "a = [1,2,3,4,5]\n",
        "b = ['A'.'B'.'C',]\n",
        "\n",
        "print(a)\n",
        "print(b)"
      ],
      "metadata": {
        "colab": {
          "base_uri": "https://localhost:8080/",
          "height": 111
        },
        "id": "WYNy9qlC-P8B",
        "outputId": "f127c803-4bcb-41bc-d288-2bad7f52e5e5"
      },
      "execution_count": 5,
      "outputs": [
        {
          "output_type": "error",
          "ename": "SyntaxError",
          "evalue": "invalid syntax (<ipython-input-5-9eedd98afe6a>, line 4)",
          "traceback": [
            "\u001b[0;36m  File \u001b[0;32m\"<ipython-input-5-9eedd98afe6a>\"\u001b[0;36m, line \u001b[0;32m4\u001b[0m\n\u001b[0;31m    b = ['A'.'B'.'C',]\u001b[0m\n\u001b[0m             ^\u001b[0m\n\u001b[0;31mSyntaxError\u001b[0m\u001b[0;31m:\u001b[0m invalid syntax\n"
          ]
        }
      ]
    },
    {
      "cell_type": "code",
      "source": [
        "- 배열 : 묶음 단위로 값을 저장하는 자료구조\n",
        "    -원소 : 배열에 지정된 각 객체\n",
        "    - 각 원소는 0,1,--------- 순서대로 인덱스(주소)를\n",
        "    부여받음\n",
        "    -원소의 자료형은 int형 float형 어떤것도 상관없음\n",
        "    -서로 다른 자료형을 같이 지정할 수 있음\n",
        "    배열 원소 자체를 배열에 저장할 수 있음"
      ],
      "metadata": {
        "id": "afwConp669JT"
      },
      "execution_count": null,
      "outputs": []
    }
  ]
}