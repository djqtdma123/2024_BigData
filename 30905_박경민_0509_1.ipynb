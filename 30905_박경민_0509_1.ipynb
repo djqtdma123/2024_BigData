{
 "cells": [
  {
   "cell_type": "markdown",
   "id": "eeec656f",
   "metadata": {},
   "source": [
    "## 30905_박경민_0509_1"
   ]
  },
  {
   "cell_type": "markdown",
   "id": "6d855340",
   "metadata": {},
   "source": [
    "수행평가 예상문제\n",
    "문제 6\n",
    "영어단어장 만들기 프로그램"
   ]
  },
  {
   "cell_type": "code",
   "execution_count": null,
   "id": "4a245ca7",
   "metadata": {},
   "outputs": [],
   "source": [
    "#빈딕셔너리 만들기\n",
    "dict_word={}\n",
    "\n",
    "#고액을 일력할때까지 일력 키 값과 밸류값 받기\n",
    "while True:\n",
    "     input_word = input('영어단어,뜻:')\n",
    "        if input_word =='':\n",
    "            break\n",
    "        #키값과 벨류값 분리하기\n",
    "        eng = input_word.split(',')[0]\n",
    "        kor = input_word.split(',')[1]\n",
    "        \n",
    "        \n",
    "        #키값과 벨류값 저장하기\n",
    "        dict_word[eng] = kor\n",
    "\n",
    "#출력하기\n",
    "dict_word"
   ]
  },
  {
   "cell_type": "markdown",
   "id": "67f64b36",
   "metadata": {},
   "source": [
    "수행평가 예사문제\n",
    "문제 7\n",
    "할인된 금액 계산 프로그램"
   ]
  },
  {
   "cell_type": "code",
   "execution_count": 4,
   "id": "874e2c8a",
   "metadata": {},
   "outputs": [
    {
     "ename": "SyntaxError",
     "evalue": "invalid syntax (Temp/ipykernel_4280/3539964216.py, line 10)",
     "output_type": "error",
     "traceback": [
      "\u001b[1;36m  File \u001b[1;32m\"C:\\Users\\user\\AppData\\Local\\Temp/ipykernel_4280/3539964216.py\"\u001b[1;36m, line \u001b[1;32m10\u001b[0m\n\u001b[1;33m    elso :\u001b[0m\n\u001b[1;37m          ^\u001b[0m\n\u001b[1;31mSyntaxError\u001b[0m\u001b[1;31m:\u001b[0m invalid syntax\n"
     ]
    }
   ],
   "source": [
    "price = int(input('물건구매가: '))\n",
    "\n",
    "#할인율결정\n",
    "if price >= 100000:\n",
    "    dc = 10\n",
    "if price >= 50000:\n",
    "    dc = 7\n",
    "if price >= 10000:\n",
    "    dc = 5\n",
    "elso :\n",
    "    dc = 0\n",
    "    \n",
    "#출력\n",
    "print(f'''\n",
    "구매가 :{price{}\n",
    "할인율 : {dc}%\n",
    "할인금액 : {price*(dc/100)}\n",
    "지불금액 : {price - price*(dc/100)}\n",
    "''')"
   ]
  },
  {
   "cell_type": "markdown",
   "id": "8d3ae925",
   "metadata": {},
   "source": [
    "수행평가 예쌍문제\n",
    "문제 8 \n",
    "사칙ㅡㅡ연산 프로그램"
   ]
  },
  {
   "cell_type": "markdown",
   "id": "c3d7b674",
   "metadata": {},
   "source": [
    "num1 = int(input('숫자1 : '))\n",
    "num2 = int(input('숫자2 : '))\n",
    "op = input('연산기호 : ')\n",
    "\n",
    "if op == '+':\n",
    "    print(f'덧셈 : {num1} + {num2} = {num1+num2}')\n",
    "if op == '-':\n",
    "    print(f'덧셈 : {num1} - {num2} = {num1-num2}')\n",
    "if op == '*':\n",
    "    print(f'덧셈 : {num1} * {num2} = {num1*num2}')\n",
    "if op == '/':\n",
    "    print(f'덧셈 : {num1} / {num2} = {num1+/num2}')\n",
    "else:\n",
    "    print(f'잘목 입력하셨습니다.)"
   ]
  },
  {
   "cell_type": "code",
   "execution_count": 8,
   "id": "16b73fa8",
   "metadata": {},
   "outputs": [
    {
     "ename": "SyntaxError",
     "evalue": "invalid syntax (Temp/ipykernel_4280/1123536929.py, line 1)",
     "output_type": "error",
     "traceback": [
      "\u001b[1;36m  File \u001b[1;32m\"C:\\Users\\user\\AppData\\Local\\Temp/ipykernel_4280/1123536929.py\"\u001b[1;36m, line \u001b[1;32m1\u001b[0m\n\u001b[1;33m    수행평가 예상문제\u001b[0m\n\u001b[1;37m         ^\u001b[0m\n\u001b[1;31mSyntaxError\u001b[0m\u001b[1;31m:\u001b[0m invalid syntax\n"
     ]
    }
   ],
   "source": [
    "수행평가 예상문제\n",
    "문제 9\n",
    "up&down 숫자 맞추기 게임 프로그램"
   ]
  },
  {
   "cell_type": "markdown",
   "id": "1149d4d4",
   "metadata": {},
   "source": [
    "import random\n",
    "def guess_nuber_game(max_attempts=0):\n",
    "    cnt = 0\n",
    "    num -randorandint(1, 100)\n",
    "    \n",
    "    while cut < max_attempts:\n",
    "        cnt += 1\n",
    "        answer = int(input(f'Attempt {cnt}. 예상 숫자를 이렵하세요(1-100): '))\n",
    "        if answer == num:\n",
    "            print(f'정답 입니다.!)\n",
    "            print (f'{cnt}번 만에 맞추었습니다.')\n",
    "            return\n",
    "                  \n",
    "        if answer < num:\n",
    "                  print('Up')\n",
    "        else:\n",
    "                  print('Down')\n",
    "                  \n",
    "        print(f'횟수 초과입니다. 저앋ㅂ은 {num{였습니다.}})\n",
    "            #시작\n",
    "              guess_number_gmae()"
   ]
  },
  {
   "cell_type": "markdown",
   "id": "c145b6d9",
   "metadata": {},
   "source": [
    "수행평가 예상문제\n",
    "문제 10\n",
    "아이디/비밀번호 프로그램"
   ]
  },
  {
   "cell_type": "code",
   "execution_count": 11,
   "id": "aed46394",
   "metadata": {},
   "outputs": [
    {
     "ename": "SyntaxError",
     "evalue": "invalid syntax (Temp/ipykernel_4280/3357921796.py, line 11)",
     "output_type": "error",
     "traceback": [
      "\u001b[1;36m  File \u001b[1;32m\"C:\\Users\\user\\AppData\\Local\\Temp/ipykernel_4280/3357921796.py\"\u001b[1;36m, line \u001b[1;32m11\u001b[0m\n\u001b[1;33m    if id 1= input_id :\u001b[0m\n\u001b[1;37m          ^\u001b[0m\n\u001b[1;31mSyntaxError\u001b[0m\u001b[1;31m:\u001b[0m invalid syntax\n"
     ]
    }
   ],
   "source": [
    "# 주어진 아이디와 비밀번호\n",
    "id = 'id123'\n",
    "pwd = 'pwd123'\n",
    "\n",
    "while True:\n",
    "    input_id = input('id : ')\n",
    "    input_pwd = input('pwd : ')\n",
    "    \n",
    "    if id == input_id and pwd == input_pwd:\n",
    "        break\n",
    "    if id 1= input_id :\n",
    "        print(f'아이디를 확인하세요)\n",
    "    if pwd != input_pwd :\n",
    "        print(f'비밀번호를 확인하세요ㅡ)"
   ]
  },
  {
   "cell_type": "code",
   "execution_count": null,
   "id": "2b40b935",
   "metadata": {},
   "outputs": [],
   "source": []
  }
 ],
 "metadata": {
  "kernelspec": {
   "display_name": "Python 3 (ipykernel)",
   "language": "python",
   "name": "python3"
  },
  "language_info": {
   "codemirror_mode": {
    "name": "ipython",
    "version": 3
   },
   "file_extension": ".py",
   "mimetype": "text/x-python",
   "name": "python",
   "nbconvert_exporter": "python",
   "pygments_lexer": "ipython3",
   "version": "3.9.7"
  }
 },
 "nbformat": 4,
 "nbformat_minor": 5
}
