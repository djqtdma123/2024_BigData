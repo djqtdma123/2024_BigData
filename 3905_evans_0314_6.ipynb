{
 "cells": [
  {
   "cell_type": "markdown",
   "id": "237f9129",
   "metadata": {},
   "source": [
    "### 3905_박경민_0314_6"
   ]
  },
  {
   "cell_type": "markdown",
   "id": "f25e8a8d",
   "metadata": {},
   "source": [
    "3,1 데이터를 저장하는 공간\n",
    "3.1.1 변수란"
   ]
  },
  {
   "cell_type": "code",
   "execution_count": 8,
   "id": "1766e1ce",
   "metadata": {},
   "outputs": [],
   "source": [
    "a = 10"
   ]
  },
  {
   "cell_type": "code",
   "execution_count": 9,
   "id": "843136e8",
   "metadata": {},
   "outputs": [],
   "source": [
    "a = 20"
   ]
  },
  {
   "cell_type": "code",
   "execution_count": 10,
   "id": "8caacd63",
   "metadata": {},
   "outputs": [
    {
     "name": "stdout",
     "output_type": "stream",
     "text": [
      "20\n"
     ]
    }
   ],
   "source": [
    "print(a)"
   ]
  },
  {
   "cell_type": "markdown",
   "id": "4a548864",
   "metadata": {},
   "source": [
    "3.1.2 변수에 값을 저장하고 사용하기"
   ]
  },
  {
   "cell_type": "code",
   "execution_count": 14,
   "id": "c8b05270",
   "metadata": {},
   "outputs": [
    {
     "name": "stdout",
     "output_type": "stream",
     "text": [
      "a\n",
      "10\n"
     ]
    }
   ],
   "source": [
    "a = 10 \n",
    "print('a') ##문자를 출력해라\n",
    "print(a) ##숫자로 입력해라"
   ]
  },
  {
   "cell_type": "code",
   "execution_count": 16,
   "id": "de85f103",
   "metadata": {},
   "outputs": [
    {
     "name": "stdout",
     "output_type": "stream",
     "text": [
      "10\n"
     ]
    }
   ],
   "source": [
    "가나다 = 10\n",
    "print(가나다)"
   ]
  },
  {
   "cell_type": "code",
   "execution_count": 18,
   "id": "2fd9d4df",
   "metadata": {},
   "outputs": [],
   "source": [
    "b = '성일'\n",
    "c = '정보'"
   ]
  },
  {
   "cell_type": "code",
   "execution_count": 25,
   "id": "a3cd8b4f",
   "metadata": {},
   "outputs": [
    {
     "name": "stdout",
     "output_type": "stream",
     "text": [
      "성일정보\n",
      "정보성일\n"
     ]
    }
   ],
   "source": [
    "print(b+c)\n",
    "print(c+b)\n"
   ]
  },
  {
   "cell_type": "code",
   "execution_count": 38,
   "id": "b3d56bc8",
   "metadata": {},
   "outputs": [
    {
     "name": "stdout",
     "output_type": "stream",
     "text": [
      "유리 175.5 21 programming\n"
     ]
    }
   ],
   "source": [
    "name = '유리'\n",
    "height = 175.5\n",
    "age = 21\n",
    "hobby = 'programming'\n",
    "print(name, height, age, hobby)"
   ]
  },
  {
   "cell_type": "code",
   "execution_count": 39,
   "id": "f350f2cb",
   "metadata": {},
   "outputs": [
    {
     "name": "stdout",
     "output_type": "stream",
     "text": [
      "유리 키는 175.5 , 나이는  21 취미는 programming 입니다!\n"
     ]
    }
   ],
   "source": [
    "print(name,'키는',height, ', 나이는 ',age,'취미는', hobby,'입니다!')"
   ]
  },
  {
   "cell_type": "code",
   "execution_count": 41,
   "id": "8acb5d79",
   "metadata": {},
   "outputs": [
    {
     "name": "stdout",
     "output_type": "stream",
     "text": [
      "유리 키는 175.5 , 나이는 21 ,취미는 programming 입니다!\n",
      "유리키는 175.5, 나이는21, 취미는 programming입니다.\n",
      "유리 키는 175.5, 나이는 21, 취미는 programming입니다.\n"
     ]
    }
   ],
   "source": [
    "name = '유리'\n",
    "height = 175.5\n",
    "age = 21\n",
    "hobby = 'programming'\n",
    "print(name,'키는',height, ', 나이는', age, ',취미는',hobby,'입니다!')\n",
    "print('{}키는 {}, 나이는{}, 취미는 {}입니다.'.format(name,height,age,hobby))\n",
    "print(f'{name} 키는 {height}, 나이는 {age}, 취미는 {hobby}입니다.')"
   ]
  },
  {
   "cell_type": "markdown",
   "id": "2af12c5e",
   "metadata": {},
   "source": [
    "원의 넓이 구해봅시다.\n",
    "\n",
    "공식 : 파이 * 반지름 ** 2\n"
   ]
  },
  {
   "cell_type": "code",
   "execution_count": 52,
   "id": "7832ceed",
   "metadata": {},
   "outputs": [
    {
     "ename": "SyntaxError",
     "evalue": "invalid syntax (Temp/ipykernel_4748/4164112119.py, line 4)",
     "output_type": "error",
     "traceback": [
      "\u001b[1;36m  File \u001b[1;32m\"C:\\Users\\user\\AppData\\Local\\Temp/ipykernel_4748/4164112119.py\"\u001b[1;36m, line \u001b[1;32m4\u001b[0m\n\u001b[1;33m    print(f'원의 넓이 = {result}'2)\u001b[0m\n\u001b[1;37m                             ^\u001b[0m\n\u001b[1;31mSyntaxError\u001b[0m\u001b[1;31m:\u001b[0m invalid syntax\n"
     ]
    }
   ],
   "source": [
    "p = 3.141592\n",
    "r = 5\n",
    "result = p* r ** 2\n",
    "print(f'원의 넓이 = {result}'2)"
   ]
  },
  {
   "cell_type": "code",
   "execution_count": null,
   "id": "282f04fa",
   "metadata": {},
   "outputs": [],
   "source": []
  }
 ],
 "metadata": {
  "kernelspec": {
   "display_name": "Python 3 (ipykernel)",
   "language": "python",
   "name": "python3"
  },
  "language_info": {
   "codemirror_mode": {
    "name": "ipython",
    "version": 3
   },
   "file_extension": ".py",
   "mimetype": "text/x-python",
   "name": "python",
   "nbconvert_exporter": "python",
   "pygments_lexer": "ipython3",
   "version": "3.9.7"
  }
 },
 "nbformat": 4,
 "nbformat_minor": 5
}
