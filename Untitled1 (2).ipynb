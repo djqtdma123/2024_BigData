{
 "cells": [
  {
   "cell_type": "code",
   "execution_count": 7,
   "id": "f52f1f2d",
   "metadata": {},
   "outputs": [
    {
     "data": {
      "text/plain": [
       "[35, 16, 99, 37, 7, 4, 21, 36, 0, 0]"
      ]
     },
     "execution_count": 7,
     "metadata": {},
     "output_type": "execute_result"
    }
   ],
   "source": [
    "list1 = [35,16,37,7,4,21,36,0,0,0,]\n",
    "index = int(input())\n",
    "value = 99\n",
    "\n",
    "n = 7\n",
    "\n",
    "for i in range(6):\n",
    "    list1[n] = list1[n-1]\n",
    "    n = n-1\n",
    "list1[index-1] = value\n",
    "list1"
   ]
  },
  {
   "cell_type": "code",
   "execution_count": null,
   "id": "ec21ddae",
   "metadata": {},
   "outputs": [],
   "source": [
    "list1= [18,25,52,63,100,0,0]\n",
    "#  [0] [1] [2] [3] [4] [5] [6]\n",
    "\n",
    "# 일렵받기(몇번쨰에 무슨 값을 넣을지\n",
    "#         [2]         7\n",
    "index = int(input(\"1\")) #2\n",
    "a = 7http://localhost:8888/notebooks/Untitled1.ipynb#\n",
    "#값을 밀어내기\n",
    "#1번째에 값 넣기\n",
    "list1[5] = list1[4]\n",
    "list1[4] = list1[3]\n",
    "list1[3] = list1[2]\n",
    "list1[2] = list1[1]\n",
    "# 2번쨰값에 넣기\n",
    "list1[5] = list1[4]\n",
    "list1[4] = list1[3]\n",
    "list1[3] = list1[2]\n",
    "#3번째 값 넣기\n",
    "list1[5] = list1[4]\n",
    "list1[4] = list1[3]\n",
    "#입력한 인덱스 값을 넣기\n",
    "list1[index] = 7"
   ]
  },
  {
   "cell_type": "code",
   "execution_count": null,
   "id": "a95bb54e",
   "metadata": {},
   "outputs": [],
   "source": []
  },
  {
   "cell_type": "code",
   "execution_count": null,
   "id": "d93cac86",
   "metadata": {},
   "outputs": [],
   "source": []
  },
  {
   "cell_type": "code",
   "execution_count": null,
   "id": "93b3ca18",
   "metadata": {},
   "outputs": [],
   "source": []
  }
 ],
 "metadata": {
  "kernelspec": {
   "display_name": "Python 3 (ipykernel)",
   "language": "python",
   "name": "python3"
  },
  "language_info": {
   "codemirror_mode": {
    "name": "ipython",
    "version": 3
   },
   "file_extension": ".py",
   "mimetype": "text/x-python",
   "name": "python",
   "nbconvert_exporter": "python",
   "pygments_lexer": "ipython3",
   "version": "3.10.9"
  }
 },
 "nbformat": 4,
 "nbformat_minor": 5
}
